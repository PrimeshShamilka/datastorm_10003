{
 "cells": [
  {
   "cell_type": "markdown",
   "metadata": {},
   "source": [
    "# Importing required Libraries"
   ]
  },
  {
   "cell_type": "code",
   "execution_count": 2,
   "metadata": {},
   "outputs": [],
   "source": [
    "import numpy as np \n",
    "import pandas as pd \n",
    "\n",
    "import matplotlib.pyplot as plt\n",
    "from sklearn.metrics import classification_report,confusion_matrix,roc_curve,auc,f1_score,roc_curve,accuracy_score\n",
    "import seaborn as sns\n",
    "\n",
    "from sklearn.svm import SVC\n",
    "from sklearn.model_selection import StratifiedKFold\n",
    "from sklearn.feature_selection import RFECV\n",
    "\n",
    "from sklearn.model_selection import GridSearchCV\n",
    "from sklearn.metrics import classification_report\n",
    "\n",
    "from sklearn.metrics import confusion_matrix\n",
    "import itertools\n",
    "from itertools import cycle"
   ]
  },
  {
   "cell_type": "markdown",
   "metadata": {},
   "source": [
    "# Defining functions to plot confusion matrix"
   ]
  },
  {
   "cell_type": "code",
   "execution_count": 3,
   "metadata": {},
   "outputs": [],
   "source": [
    "class_names = [\"Non-Default\", \"Default\"]\n",
    "\n",
    "def plot_confusion_matrix(cm, classes,\n",
    "                          normalize=False,\n",
    "                          title='Confusion matrix',\n",
    "                          cmap=plt.cm.Blues):\n",
    "    \"\"\"\n",
    "    This function prints and plots the confusion matrix.\n",
    "    Normalization can be applied by setting `normalize=True`.\n",
    "    \"\"\"\n",
    "    if normalize:\n",
    "        cm = cm.astype('float') / cm.sum(axis=1)[:, np.newaxis]\n",
    "        print(\"Normalized confusion matrix\")\n",
    "    else:\n",
    "        print('Confusion matrix, without normalization')\n",
    "\n",
    "    print(cm)\n",
    "\n",
    "    plt.imshow(cm, interpolation='nearest', cmap=cmap)\n",
    "    plt.title(title)\n",
    "    plt.colorbar()\n",
    "    tick_marks = np.arange(len(classes))\n",
    "    plt.xticks(tick_marks, classes, rotation=45)\n",
    "    plt.yticks(tick_marks, classes)\n",
    "\n",
    "    fmt = '.2f' if normalize else 'd'\n",
    "    thresh = cm.max() / 2.\n",
    "    for i, j in itertools.product(range(cm.shape[0]), range(cm.shape[1])):\n",
    "        plt.text(j, i, format(cm[i, j], fmt),\n",
    "                 horizontalalignment=\"center\",\n",
    "                 color=\"white\" if cm[i, j] > thresh else \"black\")\n",
    "\n",
    "    plt.tight_layout()\n",
    "    plt.ylabel('True label')\n",
    "    plt.xlabel('Predicted label')"
   ]
  },
  {
   "cell_type": "code",
   "execution_count": 4,
   "metadata": {},
   "outputs": [],
   "source": [
    "def plotConfusion(model, X, y):\n",
    "    y_true, y_pred = y, model.predict(X)\n",
    "    # Compute confusion matrix\n",
    "    cnf_matrix = confusion_matrix(y_true, y_pred)\n",
    "    np.set_printoptions(precision=2)\n",
    "\n",
    "    # Plot non-normalized confusion matrix\n",
    "    plt.figure(figsize=(5,5))\n",
    "    plot_confusion_matrix(cnf_matrix, classes=class_names,\n",
    "                          title='Confusion matrix, without normalization')\n",
    "\n",
    "    # Plot normalized confusion matrix\n",
    "    plt.figure(figsize=(5,5))\n",
    "    plot_confusion_matrix(cnf_matrix, classes=class_names, normalize=True,\n",
    "                          title='Normalized confusion matrix')\n",
    "\n",
    "    plt.show()"
   ]
  },
  {
   "cell_type": "markdown",
   "metadata": {},
   "source": [
    "# Importing the Dataset"
   ]
  },
  {
   "cell_type": "code",
   "execution_count": 5,
   "metadata": {},
   "outputs": [],
   "source": [
    "Dataframe = pd.read_csv(\"C:/Users/Dhanuka/data-storm-10/credit_card_default_train.csv\")\n",
    "test_set=pd.read_csv(\"C:/Users/Dhanuka/data-storm-10/credit_card_default_test.csv\")"
   ]
  },
  {
   "cell_type": "code",
   "execution_count": 6,
   "metadata": {},
   "outputs": [
    {
     "data": {
      "text/plain": [
       "Index(['Client_ID', 'Balance_Limit_V1', 'Gender', 'EDUCATION_STATUS',\n",
       "       'MARITAL_STATUS', 'AGE', 'PAY_JULY', 'PAY_AUG', 'PAY_SEP', 'PAY_OCT',\n",
       "       'PAY_NOV', 'PAY_DEC', 'DUE_AMT_JULY', 'DUE_AMT_AUG', 'DUE_AMT_SEP',\n",
       "       'DUE_AMT_OCT', 'DUE_AMT_NOV', 'DUE_AMT_DEC', 'PAID_AMT_JULY',\n",
       "       'PAID_AMT_AUG', 'PAID_AMT_SEP', 'PAID_AMT_OCT', 'PAID_AMT_NOV',\n",
       "       'PAID_AMT_DEC', 'NEXT_MONTH_DEFAULT'],\n",
       "      dtype='object')"
      ]
     },
     "execution_count": 6,
     "metadata": {},
     "output_type": "execute_result"
    }
   ],
   "source": [
    "Dataframe.columns"
   ]
  },
  {
   "cell_type": "markdown",
   "metadata": {},
   "source": [
    "# Renaming the Dataset as test and train"
   ]
  },
  {
   "cell_type": "code",
   "execution_count": 7,
   "metadata": {},
   "outputs": [],
   "source": [
    "id_train = Dataframe.iloc[:,0:1]"
   ]
  },
  {
   "cell_type": "code",
   "execution_count": 8,
   "metadata": {},
   "outputs": [],
   "source": [
    "X_train = Dataframe.iloc[:,1:24]"
   ]
  },
  {
   "cell_type": "code",
   "execution_count": 9,
   "metadata": {},
   "outputs": [],
   "source": [
    "id_test = test_set.iloc[:,0:1]"
   ]
  },
  {
   "cell_type": "code",
   "execution_count": 10,
   "metadata": {},
   "outputs": [],
   "source": [
    "X_test = test_set.iloc[:,1:]"
   ]
  },
  {
   "cell_type": "code",
   "execution_count": 11,
   "metadata": {},
   "outputs": [],
   "source": [
    "Y_train = Dataframe.iloc[:,24:]"
   ]
  },
  {
   "cell_type": "markdown",
   "metadata": {},
   "source": [
    "# Concatenating the Test and Train datasets for OneHotEncoding"
   ]
  },
  {
   "cell_type": "code",
   "execution_count": 12,
   "metadata": {},
   "outputs": [],
   "source": [
    "Total_set=pd.concat([X_train,X_test],axis=0)"
   ]
  },
  {
   "cell_type": "code",
   "execution_count": 13,
   "metadata": {},
   "outputs": [],
   "source": [
    "dummies_Gender=pd.get_dummies(Total_set['Gender'],prefix='Gender')\n",
    "dummies_EDUCATION_STATUS= pd.get_dummies(Total_set['EDUCATION_STATUS'], prefix= 'EDUCATION_STATUS') \n",
    "dummies_MARITAL_STATUS= pd.get_dummies(Total_set['MARITAL_STATUS'], prefix= 'MARITAL_STATUS')\n",
    "dummies_AGE= pd.get_dummies(Total_set['AGE'], prefix= 'AGE')"
   ]
  },
  {
   "cell_type": "code",
   "execution_count": 14,
   "metadata": {},
   "outputs": [],
   "source": [
    "Total_set = pd.concat([Total_set, dummies_Gender, dummies_EDUCATION_STATUS, dummies_MARITAL_STATUS, dummies_AGE,], axis=1)\n",
    "Total_set = Total_set.drop(['Gender','EDUCATION_STATUS','MARITAL_STATUS','AGE'], axis=1)"
   ]
  },
  {
   "cell_type": "code",
   "execution_count": 15,
   "metadata": {},
   "outputs": [
    {
     "data": {
      "text/plain": [
       "(30000, 30)"
      ]
     },
     "execution_count": 15,
     "metadata": {},
     "output_type": "execute_result"
    }
   ],
   "source": [
    "Total_set.shape"
   ]
  },
  {
   "cell_type": "code",
   "execution_count": 16,
   "metadata": {},
   "outputs": [
    {
     "data": {
      "text/plain": [
       "Index(['Balance_Limit_V1', 'PAY_JULY', 'PAY_AUG', 'PAY_SEP', 'PAY_OCT',\n",
       "       'PAY_NOV', 'PAY_DEC', 'DUE_AMT_JULY', 'DUE_AMT_AUG', 'DUE_AMT_SEP',\n",
       "       'DUE_AMT_OCT', 'DUE_AMT_NOV', 'DUE_AMT_DEC', 'PAID_AMT_JULY',\n",
       "       'PAID_AMT_AUG', 'PAID_AMT_SEP', 'PAID_AMT_OCT', 'PAID_AMT_NOV',\n",
       "       'PAID_AMT_DEC', 'Gender_F', 'Gender_M', 'EDUCATION_STATUS_Graduate',\n",
       "       'EDUCATION_STATUS_High School', 'EDUCATION_STATUS_Other',\n",
       "       'MARITAL_STATUS_Other', 'MARITAL_STATUS_Single', 'AGE_31-45',\n",
       "       'AGE_46-65', 'AGE_Less than 30', 'AGE_More than 65'],\n",
       "      dtype='object')"
      ]
     },
     "execution_count": 16,
     "metadata": {},
     "output_type": "execute_result"
    }
   ],
   "source": [
    "Total_set.columns"
   ]
  },
  {
   "cell_type": "markdown",
   "metadata": {},
   "source": [
    "# Resplitting the data as Test and Train"
   ]
  },
  {
   "cell_type": "code",
   "execution_count": 17,
   "metadata": {},
   "outputs": [],
   "source": [
    "x_train=Total_set.iloc[:24000]\n",
    "x_test=Total_set.iloc[24000:]"
   ]
  },
  {
   "cell_type": "code",
   "execution_count": 18,
   "metadata": {},
   "outputs": [],
   "source": [
    "Train_columns = list(x_train.columns)"
   ]
  },
  {
   "cell_type": "markdown",
   "metadata": {},
   "source": [
    "# Changing the variable Balance_Limit to a number"
   ]
  },
  {
   "cell_type": "code",
   "execution_count": 19,
   "metadata": {},
   "outputs": [
    {
     "name": "stderr",
     "output_type": "stream",
     "text": [
      "c:\\users\\dhanuka\\anaconda3\\envs\\mlenv\\lib\\site-packages\\pandas\\core\\indexing.py:494: SettingWithCopyWarning: \n",
      "A value is trying to be set on a copy of a slice from a DataFrame.\n",
      "Try using .loc[row_indexer,col_indexer] = value instead\n",
      "\n",
      "See the caveats in the documentation: http://pandas.pydata.org/pandas-docs/stable/user_guide/indexing.html#returning-a-view-versus-a-copy\n",
      "  self.obj[item] = s\n"
     ]
    }
   ],
   "source": [
    "for i in range(24000):\n",
    "    if x_train['Balance_Limit_V1'][i][-1]=='M':\n",
    "        x_train.loc[i:i,('Balance_Limit_V1')]=float(x_train['Balance_Limit_V1'][i][:-1])*1000000\n",
    "    else:\n",
    "        x_train.loc[i:i,('Balance_Limit_V1')]=float(x_train['Balance_Limit_V1'][i][:-1])*1000"
   ]
  },
  {
   "cell_type": "code",
   "execution_count": 20,
   "metadata": {},
   "outputs": [],
   "source": [
    "for i in range(6000):\n",
    "    if x_test['Balance_Limit_V1'][i][-1]=='M':\n",
    "        x_test.loc[i:i,('Balance_Limit_V1')]=float(x_test['Balance_Limit_V1'][i][:-1])*1000000\n",
    "    else:\n",
    "        x_test.loc[i:i,('Balance_Limit_V1')]=float(x_test['Balance_Limit_V1'][i][:-1])*1000"
   ]
  },
  {
   "cell_type": "markdown",
   "metadata": {},
   "source": [
    "# Feature ranking with recursive feature elimination and cross-validated selection of the best number of features"
   ]
  },
  {
   "cell_type": "markdown",
   "metadata": {},
   "source": [
    "# Using XG Boost"
   ]
  },
  {
   "cell_type": "code",
   "execution_count": 21,
   "metadata": {},
   "outputs": [
    {
     "name": "stderr",
     "output_type": "stream",
     "text": [
      "c:\\users\\dhanuka\\anaconda3\\envs\\mlenv\\lib\\site-packages\\sklearn\\model_selection\\_split.py:629: FutureWarning: The default value of n_split will change from 3 to 5 in version 0.22. Specify it explicitly to silence this warning.\n",
      "  warnings.warn(NSPLIT_WARNING, FutureWarning)\n",
      "c:\\users\\dhanuka\\anaconda3\\envs\\mlenv\\lib\\site-packages\\sklearn\\utils\\validation.py:724: DataConversionWarning: A column-vector y was passed when a 1d array was expected. Please change the shape of y to (n_samples, ), for example using ravel().\n",
      "  y = column_or_1d(y, warn=True)\n"
     ]
    },
    {
     "name": "stdout",
     "output_type": "stream",
     "text": [
      "Optimal number of features : 11\n"
     ]
    },
    {
     "data": {
      "image/png": "[encoded data removed]",
      "text/plain": [
       "<Figure size 360x360 with 1 Axes>"
      ]
     },
     "metadata": {
      "needs_background": "light"
     },
     "output_type": "display_data"
    }
   ],
   "source": [
    "from xgboost import XGBClassifier\n",
    "clf=XGBClassifier()\n",
    "rfecv = RFECV(estimator=clf, step=1, cv=StratifiedKFold(),scoring='f1')\n",
    "rfecv.fit(x_train, Y_train)\n",
    "\n",
    "print(\"Optimal number of features : %d\" % rfecv.n_features_)\n",
    "\n",
    "plt.figure(figsize=(5,5))\n",
    "plt.xlabel(\"Number of features selected\")\n",
    "plt.ylabel(\"Cross validation score (nb of correct classifications)\")\n",
    "plt.plot(range(1, len(rfecv.grid_scores_) + 1), rfecv.grid_scores_)\n",
    "plt.show()"
   ]
  },
  {
   "cell_type": "code",
   "execution_count": 22,
   "metadata": {},
   "outputs": [
    {
     "data": {
      "text/plain": [
       "array([0.44348896, 0.44399772, 0.44907512, 0.45631733, 0.46157898,\n",
       "       0.46136247, 0.46871218, 0.47214692, 0.46984301, 0.47128591,\n",
       "       0.47251264, 0.47184753, 0.47136754, 0.46941663, 0.47217914,\n",
       "       0.47071487, 0.47106885, 0.47152177, 0.46970522, 0.46811533,\n",
       "       0.46857023, 0.46997169, 0.47020457, 0.47089224, 0.47121789,\n",
       "       0.47070762, 0.47070762, 0.47070762, 0.47070762, 0.47070762])"
      ]
     },
     "execution_count": 22,
     "metadata": {},
     "output_type": "execute_result"
    }
   ],
   "source": [
    "rfecv.grid_scores_"
   ]
  },
  {
   "cell_type": "code",
   "execution_count": 23,
   "metadata": {},
   "outputs": [
    {
     "data": {
      "text/plain": [
       "array([ True,  True,  True,  True,  True,  True,  True, False, False,\n",
       "       False, False, False, False,  True,  True,  True,  True, False,\n",
       "       False, False, False, False, False, False, False, False, False,\n",
       "       False, False, False])"
      ]
     },
     "execution_count": 23,
     "metadata": {},
     "output_type": "execute_result"
    }
   ],
   "source": [
    "rfecv.support_"
   ]
  },
  {
   "cell_type": "code",
   "execution_count": 24,
   "metadata": {},
   "outputs": [
    {
     "data": {
      "text/plain": [
       "array([ 1,  1,  1,  1,  1,  1,  1,  2,  3,  8,  9, 15, 11,  1,  1,  1,  1,\n",
       "       10,  4,  5, 19, 12, 13, 16,  6, 18, 20,  7, 17, 14])"
      ]
     },
     "execution_count": 24,
     "metadata": {},
     "output_type": "execute_result"
    }
   ],
   "source": [
    "rfecv.ranking_"
   ]
  },
  {
   "cell_type": "code",
   "execution_count": 25,
   "metadata": {},
   "outputs": [],
   "source": [
    "features=list(x_train.columns.values[rfecv.support_])"
   ]
  },
  {
   "cell_type": "code",
   "execution_count": 26,
   "metadata": {},
   "outputs": [],
   "source": [
    "features=['Balance_Limit_V1',\n",
    " 'PAY_JULY',\n",
    " 'PAY_AUG',\n",
    " 'PAY_SEP',\n",
    " 'PAY_OCT',\n",
    " 'PAY_NOV',\n",
    " 'PAY_DEC',\n",
    " 'PAID_AMT_JULY',\n",
    " 'PAID_AMT_AUG',\n",
    " 'PAID_AMT_SEP',\n",
    " 'PAID_AMT_OCT']"
   ]
  },
  {
   "cell_type": "markdown",
   "metadata": {},
   "source": [
    "# Splitting train set as train and cross_validation"
   ]
  },
  {
   "cell_type": "code",
   "execution_count": 27,
   "metadata": {},
   "outputs": [],
   "source": [
    "x_train_2=x_train[features]"
   ]
  },
  {
   "cell_type": "code",
   "execution_count": 28,
   "metadata": {},
   "outputs": [],
   "source": [
    "from sklearn.model_selection import train_test_split\n",
    "x_train_1, x_validation_1, y_train, y_validation = train_test_split(x_train, Y_train, test_size = 0.2,random_state=42)"
   ]
  },
  {
   "cell_type": "markdown",
   "metadata": {},
   "source": [
    "# Selecting features with rank 1(from recursive feature elimination) only "
   ]
  },
  {
   "cell_type": "code",
   "execution_count": 29,
   "metadata": {},
   "outputs": [],
   "source": [
    "x_train_1=x_train_1[features]\n",
    "x_validation_1=x_validation_1[features]"
   ]
  },
  {
   "cell_type": "markdown",
   "metadata": {},
   "source": [
    "# Scaling Features"
   ]
  },
  {
   "cell_type": "code",
   "execution_count": 30,
   "metadata": {},
   "outputs": [],
   "source": [
    "from sklearn.preprocessing import StandardScaler\n",
    "scX = StandardScaler()\n",
    "x_train_1 = scX.fit_transform( x_train_1 )\n",
    "x_validation_1 = scX.transform( x_validation_1 )"
   ]
  },
  {
   "cell_type": "code",
   "execution_count": 31,
   "metadata": {},
   "outputs": [],
   "source": [
    "Dataframe_for_graphs=pd.concat([x_train_2,Y_train],axis=1)"
   ]
  },
  {
   "cell_type": "code",
   "execution_count": 32,
   "metadata": {},
   "outputs": [
    {
     "data": {
      "text/html": [
       "<div>\n",
       "<style scoped>\n",
       "    .dataframe tbody tr th:only-of-type {\n",
       "        vertical-align: middle;\n",
       "    }\n",
       "\n",
       "    .dataframe tbody tr th {\n",
       "        vertical-align: top;\n",
       "    }\n",
       "\n",
       "    .dataframe thead th {\n",
       "        text-align: right;\n",
       "    }\n",
       "</style>\n",
       "<table border=\"1\" class=\"dataframe\">\n",
       "  <thead>\n",
       "    <tr style=\"text-align: right;\">\n",
       "      <th></th>\n",
       "      <th>Balance_Limit_V1</th>\n",
       "      <th>PAY_JULY</th>\n",
       "      <th>PAY_AUG</th>\n",
       "      <th>PAY_SEP</th>\n",
       "      <th>PAY_OCT</th>\n",
       "      <th>PAY_NOV</th>\n",
       "      <th>PAY_DEC</th>\n",
       "      <th>PAID_AMT_JULY</th>\n",
       "      <th>PAID_AMT_AUG</th>\n",
       "      <th>PAID_AMT_SEP</th>\n",
       "      <th>PAID_AMT_OCT</th>\n",
       "      <th>NEXT_MONTH_DEFAULT</th>\n",
       "    </tr>\n",
       "  </thead>\n",
       "  <tbody>\n",
       "    <tr>\n",
       "      <td>0</td>\n",
       "      <td>1000000</td>\n",
       "      <td>-1</td>\n",
       "      <td>-1</td>\n",
       "      <td>-1</td>\n",
       "      <td>-1</td>\n",
       "      <td>-1</td>\n",
       "      <td>-1</td>\n",
       "      <td>3437</td>\n",
       "      <td>6004</td>\n",
       "      <td>39418</td>\n",
       "      <td>162772</td>\n",
       "      <td>0</td>\n",
       "    </tr>\n",
       "    <tr>\n",
       "      <td>1</td>\n",
       "      <td>1000000</td>\n",
       "      <td>0</td>\n",
       "      <td>-1</td>\n",
       "      <td>-1</td>\n",
       "      <td>-1</td>\n",
       "      <td>-1</td>\n",
       "      <td>0</td>\n",
       "      <td>151818</td>\n",
       "      <td>46200</td>\n",
       "      <td>43530</td>\n",
       "      <td>80811</td>\n",
       "      <td>0</td>\n",
       "    </tr>\n",
       "    <tr>\n",
       "      <td>2</td>\n",
       "      <td>100000</td>\n",
       "      <td>4</td>\n",
       "      <td>3</td>\n",
       "      <td>2</td>\n",
       "      <td>2</td>\n",
       "      <td>-2</td>\n",
       "      <td>-2</td>\n",
       "      <td>0</td>\n",
       "      <td>0</td>\n",
       "      <td>0</td>\n",
       "      <td>0</td>\n",
       "      <td>1</td>\n",
       "    </tr>\n",
       "    <tr>\n",
       "      <td>3</td>\n",
       "      <td>200000</td>\n",
       "      <td>2</td>\n",
       "      <td>0</td>\n",
       "      <td>0</td>\n",
       "      <td>0</td>\n",
       "      <td>0</td>\n",
       "      <td>0</td>\n",
       "      <td>3855</td>\n",
       "      <td>3890</td>\n",
       "      <td>3696</td>\n",
       "      <td>4620</td>\n",
       "      <td>1</td>\n",
       "    </tr>\n",
       "    <tr>\n",
       "      <td>4</td>\n",
       "      <td>1000000</td>\n",
       "      <td>2</td>\n",
       "      <td>2</td>\n",
       "      <td>0</td>\n",
       "      <td>0</td>\n",
       "      <td>0</td>\n",
       "      <td>0</td>\n",
       "      <td>0</td>\n",
       "      <td>20790</td>\n",
       "      <td>16170</td>\n",
       "      <td>17325</td>\n",
       "      <td>0</td>\n",
       "    </tr>\n",
       "    <tr>\n",
       "      <td>...</td>\n",
       "      <td>...</td>\n",
       "      <td>...</td>\n",
       "      <td>...</td>\n",
       "      <td>...</td>\n",
       "      <td>...</td>\n",
       "      <td>...</td>\n",
       "      <td>...</td>\n",
       "      <td>...</td>\n",
       "      <td>...</td>\n",
       "      <td>...</td>\n",
       "      <td>...</td>\n",
       "      <td>...</td>\n",
       "    </tr>\n",
       "    <tr>\n",
       "      <td>23995</td>\n",
       "      <td>1000000</td>\n",
       "      <td>0</td>\n",
       "      <td>0</td>\n",
       "      <td>0</td>\n",
       "      <td>0</td>\n",
       "      <td>0</td>\n",
       "      <td>0</td>\n",
       "      <td>19635</td>\n",
       "      <td>46200</td>\n",
       "      <td>11557</td>\n",
       "      <td>7039</td>\n",
       "      <td>0</td>\n",
       "    </tr>\n",
       "    <tr>\n",
       "      <td>23996</td>\n",
       "      <td>400000</td>\n",
       "      <td>-1</td>\n",
       "      <td>-1</td>\n",
       "      <td>-1</td>\n",
       "      <td>-1</td>\n",
       "      <td>0</td>\n",
       "      <td>0</td>\n",
       "      <td>4243</td>\n",
       "      <td>8145</td>\n",
       "      <td>20785</td>\n",
       "      <td>298</td>\n",
       "      <td>0</td>\n",
       "    </tr>\n",
       "    <tr>\n",
       "      <td>23997</td>\n",
       "      <td>100000</td>\n",
       "      <td>4</td>\n",
       "      <td>3</td>\n",
       "      <td>2</td>\n",
       "      <td>-1</td>\n",
       "      <td>0</td>\n",
       "      <td>0</td>\n",
       "      <td>0</td>\n",
       "      <td>0</td>\n",
       "      <td>50820</td>\n",
       "      <td>9702</td>\n",
       "      <td>1</td>\n",
       "    </tr>\n",
       "    <tr>\n",
       "      <td>23998</td>\n",
       "      <td>200000</td>\n",
       "      <td>1</td>\n",
       "      <td>-1</td>\n",
       "      <td>0</td>\n",
       "      <td>0</td>\n",
       "      <td>0</td>\n",
       "      <td>-1</td>\n",
       "      <td>198429</td>\n",
       "      <td>7875</td>\n",
       "      <td>2721</td>\n",
       "      <td>4449</td>\n",
       "      <td>1</td>\n",
       "    </tr>\n",
       "    <tr>\n",
       "      <td>23999</td>\n",
       "      <td>200000</td>\n",
       "      <td>0</td>\n",
       "      <td>0</td>\n",
       "      <td>0</td>\n",
       "      <td>0</td>\n",
       "      <td>0</td>\n",
       "      <td>0</td>\n",
       "      <td>4800</td>\n",
       "      <td>4158</td>\n",
       "      <td>3303</td>\n",
       "      <td>2310</td>\n",
       "      <td>1</td>\n",
       "    </tr>\n",
       "  </tbody>\n",
       "</table>\n",
       "<p>24000 rows × 12 columns</p>\n",
       "</div>"
      ],
      "text/plain": [
       "       Balance_Limit_V1  PAY_JULY  PAY_AUG  PAY_SEP  PAY_OCT  PAY_NOV  \\\n",
       "0               1000000        -1       -1       -1       -1       -1   \n",
       "1               1000000         0       -1       -1       -1       -1   \n",
       "2                100000         4        3        2        2       -2   \n",
       "3                200000         2        0        0        0        0   \n",
       "4               1000000         2        2        0        0        0   \n",
       "...                 ...       ...      ...      ...      ...      ...   \n",
       "23995           1000000         0        0        0        0        0   \n",
       "23996            400000        -1       -1       -1       -1        0   \n",
       "23997            100000         4        3        2       -1        0   \n",
       "23998            200000         1       -1        0        0        0   \n",
       "23999            200000         0        0        0        0        0   \n",
       "\n",
       "       PAY_DEC  PAID_AMT_JULY  PAID_AMT_AUG  PAID_AMT_SEP  PAID_AMT_OCT  \\\n",
       "0           -1           3437          6004         39418        162772   \n",
       "1            0         151818         46200         43530         80811   \n",
       "2           -2              0             0             0             0   \n",
       "3            0           3855          3890          3696          4620   \n",
       "4            0              0         20790         16170         17325   \n",
       "...        ...            ...           ...           ...           ...   \n",
       "23995        0          19635         46200         11557          7039   \n",
       "23996        0           4243          8145         20785           298   \n",
       "23997        0              0             0         50820          9702   \n",
       "23998       -1         198429          7875          2721          4449   \n",
       "23999        0           4800          4158          3303          2310   \n",
       "\n",
       "       NEXT_MONTH_DEFAULT  \n",
       "0                       0  \n",
       "1                       0  \n",
       "2                       1  \n",
       "3                       1  \n",
       "4                       0  \n",
       "...                   ...  \n",
       "23995                   0  \n",
       "23996                   0  \n",
       "23997                   1  \n",
       "23998                   1  \n",
       "23999                   1  \n",
       "\n",
       "[24000 rows x 12 columns]"
      ]
     },
     "execution_count": 32,
     "metadata": {},
     "output_type": "execute_result"
    }
   ],
   "source": [
    "Dataframe_for_graphs"
   ]
  },
  {
   "cell_type": "code",
   "execution_count": 33,
   "metadata": {},
   "outputs": [
    {
     "data": {
      "image/png": "[encoded data removed]",
      "text/plain": [
       "<Figure size 1207.48x648 with 11 Axes>"
      ]
     },
     "metadata": {
      "needs_background": "light"
     },
     "output_type": "display_data"
    }
   ],
   "source": [
    "f = pd.melt( Dataframe_for_graphs, id_vars='NEXT_MONTH_DEFAULT', value_vars=features)\n",
    "g = sns.FacetGrid( f, hue='NEXT_MONTH_DEFAULT', col=\"variable\", col_wrap=5, sharex=False, sharey=False )\n",
    "g = g.map( sns.distplot, \"value\", kde=True).add_legend()"
   ]
  },
  {
   "cell_type": "code",
   "execution_count": 34,
   "metadata": {},
   "outputs": [],
   "source": [
    "Features_for_first_XGBoost=['Balance_Limit_V1', 'PAY_JULY', 'PAY_AUG', 'PAY_SEP', 'PAY_OCT','PAY_NOV', 'PAY_DEC']\n",
    "Features_for_second_XGBoost=['Balance_Limit_V1', 'PAY_JULY', 'PAY_AUG', 'PAY_SEP', 'PAY_OCT','PAY_NOV', 'PAY_DEC', 'PAID_AMT_JULY', 'PAID_AMT_AUG','PAID_AMT_SEP', 'PAID_AMT_OCT']"
   ]
  },
  {
   "cell_type": "markdown",
   "metadata": {},
   "source": [
    "# Splitting dataset as test and validation"
   ]
  },
  {
   "cell_type": "code",
   "execution_count": 47,
   "metadata": {},
   "outputs": [],
   "source": [
    "from sklearn.model_selection import train_test_split\n",
    "x_train_xgb, x_validation_xgb, y_train, y_validation = train_test_split(x_train_2, Y_train, test_size = 0.2,random_state=42)"
   ]
  },
  {
   "cell_type": "code",
   "execution_count": 48,
   "metadata": {},
   "outputs": [],
   "source": [
    "x_train_xgb1=x_train_xgb[Features_for_first_XGBoost]\n",
    "x_validation_xgb1=x_validation_xgb[Features_for_first_XGBoost]\n",
    "x_train_xgb2=x_train_xgb[Features_for_second_XGBoost]\n",
    "x_validation_xgb2=x_validation_xgb[Features_for_second_XGBoost]"
   ]
  },
  {
   "cell_type": "code",
   "execution_count": 49,
   "metadata": {},
   "outputs": [],
   "source": [
    "x_train_xgb1 = scX.fit_transform( x_train_xgb1 )\n",
    "x_validation_xgb1 = scX.transform( x_validation_xgb1 )"
   ]
  },
  {
   "cell_type": "code",
   "execution_count": 50,
   "metadata": {},
   "outputs": [
    {
     "data": {
      "text/plain": [
       "array([[-0.54321498,  0.01147421,  0.10586054, ...,  0.1849431 ,\n",
       "         0.23135051,  0.25163461],\n",
       "       [ 1.19077926, -0.87685194, -0.72340194, ..., -0.67131625,\n",
       "         0.23135051,  0.25163461],\n",
       "       [-0.79092845,  0.89980037,  1.7643855 , ...,  0.1849431 ,\n",
       "         0.23135051,  0.25163461],\n",
       "       ...,\n",
       "       [ 1.19077926, -0.87685194, -0.72340194, ...,  0.1849431 ,\n",
       "        -0.65068479, -0.61685083],\n",
       "       [-0.54321498,  0.01147421,  0.10586054, ...,  0.1849431 ,\n",
       "         0.23135051,  0.25163461],\n",
       "       [ 2.42934658,  0.01147421,  0.10586054, ...,  0.1849431 ,\n",
       "         0.23135051, -1.48533626]])"
      ]
     },
     "execution_count": 50,
     "metadata": {},
     "output_type": "execute_result"
    }
   ],
   "source": [
    "x_train_xgb1"
   ]
  },
  {
   "cell_type": "code",
   "execution_count": 51,
   "metadata": {},
   "outputs": [
    {
     "data": {
      "text/plain": [
       "array([[-0.04778806, -0.87685194,  0.10586054, ...,  0.1849431 ,\n",
       "        -0.65068479, -0.61685083],\n",
       "       [-0.29550152,  0.01147421,  0.10586054, ...,  1.89746179,\n",
       "         0.23135051,  0.25163461],\n",
       "       [-0.79092845,  0.01147421,  0.10586054, ...,  0.1849431 ,\n",
       "        -0.65068479, -0.61685083],\n",
       "       ...,\n",
       "       [ 1.19077926,  1.78812652,  0.10586054, ...,  0.1849431 ,\n",
       "         0.23135051,  0.25163461],\n",
       "       [-1.03864191, -0.87685194, -0.72340194, ...,  0.1849431 ,\n",
       "         0.23135051, -0.61685083],\n",
       "       [-0.79092845,  0.01147421,  0.10586054, ...,  0.1849431 ,\n",
       "         0.23135051,  0.25163461]])"
      ]
     },
     "execution_count": 51,
     "metadata": {},
     "output_type": "execute_result"
    }
   ],
   "source": [
    "x_validation_xgb1"
   ]
  },
  {
   "cell_type": "code",
   "execution_count": 52,
   "metadata": {},
   "outputs": [],
   "source": [
    "from sklearn.pipeline import Pipeline\n",
    "from sklearn import metrics"
   ]
  },
  {
   "cell_type": "code",
   "execution_count": 53,
   "metadata": {},
   "outputs": [],
   "source": [
    "from sklearn.svm import NuSVC, SVC\n",
    "from sklearn.neural_network import MLPClassifier\n",
    "from sklearn.ensemble import RandomForestClassifier\n",
    "from mlxtend.classifier import StackingCVClassifier "
   ]
  },
  {
   "cell_type": "code",
   "execution_count": 54,
   "metadata": {},
   "outputs": [],
   "source": [
    "import warnings\n",
    "warnings.simplefilter('ignore')"
   ]
  },
  {
   "cell_type": "code",
   "execution_count": 55,
   "metadata": {},
   "outputs": [],
   "source": [
    "classifier2 = MLPClassifier(activation = \"relu\", alpha = 0.1, hidden_layer_sizes = (20,40,20),\n",
    "                            learning_rate = \"constant\", max_iter = 2000, random_state = 1000)\n",
    "\n",
    "classifier4 = RandomForestClassifier(n_estimators = 100, criterion = \"gini\", max_depth = 10,\n",
    "                                     max_features = \"auto\", min_samples_leaf = 0.005,\n",
    "                                     min_samples_split = 0.005, n_jobs = -1, random_state = 1000)\n",
    "classifier5 =XGBClassifier()"
   ]
  },
  {
   "cell_type": "code",
   "execution_count": 56,
   "metadata": {},
   "outputs": [],
   "source": [
    "sclf = StackingCVClassifier(classifiers = [classifier2, classifier4,classifier5],\n",
    "                            shuffle = False,\n",
    "                            use_probas = True,\n",
    "                            cv = 5,\n",
    "                            meta_classifier = SVC(probability = True))"
   ]
  },
  {
   "cell_type": "code",
   "execution_count": 57,
   "metadata": {},
   "outputs": [],
   "source": [
    "classifiers = {\"MLP\": classifier2,\n",
    "               \"RF\": classifier4,\n",
    "               \"XGB\":classifier5,\n",
    "               \"Stack\": sclf}"
   ]
  },
  {
   "cell_type": "code",
   "execution_count": 58,
   "metadata": {},
   "outputs": [],
   "source": [
    "for key in classifiers:\n",
    "    classifier = classifiers[key]\n",
    "    \n",
    "    classifier.fit(x_train_xgb1,y_train)\n",
    "        \n",
    "    classifiers[key] = classifier"
   ]
  },
  {
   "cell_type": "code",
   "execution_count": 59,
   "metadata": {},
   "outputs": [],
   "source": [
    "result = pd.DataFrame()\n",
    "for key in classifiers:\n",
    "    # Make prediction on test set\n",
    "    y_pred = classifiers[key].predict_proba(x_validation_xgb1)[:,1]\n",
    "    \n",
    "    # Save results in pandas dataframe object\n",
    "    result[f\"{key}\"] = y_pred\n",
    "\n",
    "# Add the test set to the results object\n",
    "y_validation['NEXT_MONTH_DEFAULT']=y_validation['NEXT_MONTH_DEFAULT'].astype(float)\n",
    "result[\"Target\"] = y_validation"
   ]
  },
  {
   "cell_type": "code",
   "execution_count": 60,
   "metadata": {},
   "outputs": [
    {
     "data": {
      "image/png": "[encoded data removed]",
      "text/plain": [
       "<Figure size 936x288 with 6 Axes>"
      ]
     },
     "metadata": {},
     "output_type": "display_data"
    }
   ],
   "source": [
    "sns.set(font_scale = 1)\n",
    "sns.set_style({\"axes.facecolor\": \"1.0\", \"axes.edgecolor\": \"0.85\", \"grid.color\": \"0.85\",\n",
    "               \"grid.linestyle\": \"-\", 'axes.labelcolor': '0.4', \"xtick.color\": \"0.4\",\n",
    "               'ytick.color': '0.4'})\n",
    "\n",
    "# Plot\n",
    "f, ax = plt.subplots(figsize=(13, 4), nrows=1, ncols = 6)\n",
    "\n",
    "for key, counter in zip(classifiers, range(6)):\n",
    "    # Get predictions\n",
    "    y_pred = result[key]\n",
    "    \n",
    "    # Get AUC\n",
    "    auc = metrics.roc_auc_score(y_validation, y_pred)\n",
    "    textstr = f\"AUC: {auc:.3f}\"\n",
    "\n",
    "    # Plot false distribution\n",
    "    false_pred = result[result[\"Target\"] == 0]\n",
    "    sns.distplot(false_pred[key], hist=True, kde=False, \n",
    "                 bins=int(25), color = 'red',\n",
    "                 hist_kws={'edgecolor':'black'}, ax = ax[counter])\n",
    "    \n",
    "    # Plot true distribution\n",
    "    true_pred = result[result[\"Target\"] == 1]\n",
    "    sns.distplot(result[key], hist=True, kde=False, \n",
    "                 bins=int(25), color = 'green',\n",
    "                 hist_kws={'edgecolor':'black'}, ax = ax[counter])\n",
    "    \n",
    "    \n",
    "    # These are matplotlib.patch.Patch properties\n",
    "    props = dict(boxstyle='round', facecolor='white', alpha=0.5)\n",
    "    \n",
    "    # Place a text box in upper left in axes coords\n",
    "    ax[counter].text(0.05, 0.95, textstr, transform=ax[counter].transAxes, fontsize=14,\n",
    "                    verticalalignment = \"top\", bbox=props)\n",
    "    \n",
    "    # Set axis limits and labels\n",
    "    ax[counter].set_title(f\"{key} Distribution\")\n",
    "    ax[counter].set_xlim(0,1)\n",
    "    ax[counter].set_xlabel(\"Probability\")\n",
    "\n",
    "# Tight layout\n",
    "plt.tight_layout()\n",
    "\n",
    "# Save Figure\n",
    "plt.savefig(\"Probability Distribution for each Classifier.png\", dpi = 1080)"
   ]
  },
  {
   "cell_type": "code",
   "execution_count": 61,
   "metadata": {},
   "outputs": [],
   "source": [
    "for key in classifiers:\n",
    "    for i in range(4800):\n",
    "        if result[key].loc[i]>0.5:\n",
    "            result.loc[i:i,(key)]=int(1)\n",
    "        else:\n",
    "            result.loc[i:i,(key)]=int(0)"
   ]
  },
  {
   "cell_type": "code",
   "execution_count": 62,
   "metadata": {},
   "outputs": [
    {
     "data": {
      "text/html": [
       "<div>\n",
       "<style scoped>\n",
       "    .dataframe tbody tr th:only-of-type {\n",
       "        vertical-align: middle;\n",
       "    }\n",
       "\n",
       "    .dataframe tbody tr th {\n",
       "        vertical-align: top;\n",
       "    }\n",
       "\n",
       "    .dataframe thead th {\n",
       "        text-align: right;\n",
       "    }\n",
       "</style>\n",
       "<table border=\"1\" class=\"dataframe\">\n",
       "  <thead>\n",
       "    <tr style=\"text-align: right;\">\n",
       "      <th></th>\n",
       "      <th>MLP</th>\n",
       "      <th>RF</th>\n",
       "      <th>XGB</th>\n",
       "      <th>Stack</th>\n",
       "      <th>Target</th>\n",
       "    </tr>\n",
       "  </thead>\n",
       "  <tbody>\n",
       "    <tr>\n",
       "      <td>0</td>\n",
       "      <td>0.0</td>\n",
       "      <td>0.0</td>\n",
       "      <td>0.0</td>\n",
       "      <td>0.0</td>\n",
       "      <td>NaN</td>\n",
       "    </tr>\n",
       "    <tr>\n",
       "      <td>1</td>\n",
       "      <td>0.0</td>\n",
       "      <td>0.0</td>\n",
       "      <td>0.0</td>\n",
       "      <td>0.0</td>\n",
       "      <td>NaN</td>\n",
       "    </tr>\n",
       "    <tr>\n",
       "      <td>2</td>\n",
       "      <td>0.0</td>\n",
       "      <td>0.0</td>\n",
       "      <td>0.0</td>\n",
       "      <td>0.0</td>\n",
       "      <td>NaN</td>\n",
       "    </tr>\n",
       "    <tr>\n",
       "      <td>3</td>\n",
       "      <td>0.0</td>\n",
       "      <td>0.0</td>\n",
       "      <td>0.0</td>\n",
       "      <td>0.0</td>\n",
       "      <td>NaN</td>\n",
       "    </tr>\n",
       "    <tr>\n",
       "      <td>4</td>\n",
       "      <td>0.0</td>\n",
       "      <td>0.0</td>\n",
       "      <td>0.0</td>\n",
       "      <td>0.0</td>\n",
       "      <td>NaN</td>\n",
       "    </tr>\n",
       "    <tr>\n",
       "      <td>...</td>\n",
       "      <td>...</td>\n",
       "      <td>...</td>\n",
       "      <td>...</td>\n",
       "      <td>...</td>\n",
       "      <td>...</td>\n",
       "    </tr>\n",
       "    <tr>\n",
       "      <td>4795</td>\n",
       "      <td>0.0</td>\n",
       "      <td>0.0</td>\n",
       "      <td>0.0</td>\n",
       "      <td>0.0</td>\n",
       "      <td>NaN</td>\n",
       "    </tr>\n",
       "    <tr>\n",
       "      <td>4796</td>\n",
       "      <td>0.0</td>\n",
       "      <td>0.0</td>\n",
       "      <td>0.0</td>\n",
       "      <td>0.0</td>\n",
       "      <td>NaN</td>\n",
       "    </tr>\n",
       "    <tr>\n",
       "      <td>4797</td>\n",
       "      <td>1.0</td>\n",
       "      <td>1.0</td>\n",
       "      <td>1.0</td>\n",
       "      <td>1.0</td>\n",
       "      <td>NaN</td>\n",
       "    </tr>\n",
       "    <tr>\n",
       "      <td>4798</td>\n",
       "      <td>0.0</td>\n",
       "      <td>0.0</td>\n",
       "      <td>0.0</td>\n",
       "      <td>0.0</td>\n",
       "      <td>NaN</td>\n",
       "    </tr>\n",
       "    <tr>\n",
       "      <td>4799</td>\n",
       "      <td>0.0</td>\n",
       "      <td>0.0</td>\n",
       "      <td>0.0</td>\n",
       "      <td>0.0</td>\n",
       "      <td>NaN</td>\n",
       "    </tr>\n",
       "  </tbody>\n",
       "</table>\n",
       "<p>4800 rows × 5 columns</p>\n",
       "</div>"
      ],
      "text/plain": [
       "      MLP   RF  XGB  Stack  Target\n",
       "0     0.0  0.0  0.0    0.0     NaN\n",
       "1     0.0  0.0  0.0    0.0     NaN\n",
       "2     0.0  0.0  0.0    0.0     NaN\n",
       "3     0.0  0.0  0.0    0.0     NaN\n",
       "4     0.0  0.0  0.0    0.0     NaN\n",
       "...   ...  ...  ...    ...     ...\n",
       "4795  0.0  0.0  0.0    0.0     NaN\n",
       "4796  0.0  0.0  0.0    0.0     NaN\n",
       "4797  1.0  1.0  1.0    1.0     NaN\n",
       "4798  0.0  0.0  0.0    0.0     NaN\n",
       "4799  0.0  0.0  0.0    0.0     NaN\n",
       "\n",
       "[4800 rows x 5 columns]"
      ]
     },
     "execution_count": 62,
     "metadata": {},
     "output_type": "execute_result"
    }
   ],
   "source": [
    "result"
   ]
  },
  {
   "cell_type": "code",
   "execution_count": 63,
   "metadata": {},
   "outputs": [
    {
     "name": "stdout",
     "output_type": "stream",
     "text": [
      "              precision    recall  f1-score   support\n",
      "\n",
      "         0.0       0.85      0.95      0.90      3745\n",
      "         1.0       0.70      0.38      0.49      1055\n",
      "\n",
      "    accuracy                           0.83      4800\n",
      "   macro avg       0.77      0.67      0.70      4800\n",
      "weighted avg       0.81      0.83      0.81      4800\n",
      "\n",
      "              precision    recall  f1-score   support\n",
      "\n",
      "         0.0       0.84      0.95      0.90      3745\n",
      "         1.0       0.70      0.38      0.49      1055\n",
      "\n",
      "    accuracy                           0.83      4800\n",
      "   macro avg       0.77      0.67      0.69      4800\n",
      "weighted avg       0.81      0.83      0.81      4800\n",
      "\n",
      "              precision    recall  f1-score   support\n",
      "\n",
      "         0.0       0.84      0.96      0.90      3745\n",
      "         1.0       0.70      0.37      0.49      1055\n",
      "\n",
      "    accuracy                           0.83      4800\n",
      "   macro avg       0.77      0.66      0.69      4800\n",
      "weighted avg       0.81      0.83      0.81      4800\n",
      "\n",
      "              precision    recall  f1-score   support\n",
      "\n",
      "         0.0       0.83      0.97      0.90      3745\n",
      "         1.0       0.72      0.32      0.45      1055\n",
      "\n",
      "    accuracy                           0.82      4800\n",
      "   macro avg       0.78      0.64      0.67      4800\n",
      "weighted avg       0.81      0.82      0.80      4800\n",
      "\n"
     ]
    }
   ],
   "source": [
    "for key in classifiers:\n",
    "    print(classification_report(y_validation,result[key]))"
   ]
  },
  {
   "cell_type": "code",
   "execution_count": null,
   "metadata": {},
   "outputs": [],
   "source": []
  }
 ],
 "metadata": {
  "kernelspec": {
   "display_name": "Python 3",
   "language": "python",
   "name": "python3"
  },
  "language_info": {
   "codemirror_mode": {
    "name": "ipython",
    "version": 3
   },
   "file_extension": ".py",
   "mimetype": "text/x-python",
   "name": "python",
   "nbconvert_exporter": "python",
   "pygments_lexer": "ipython3",
   "version": "3.7.4"
  }
 },
 "nbformat": 4,
 "nbformat_minor": 2
}
